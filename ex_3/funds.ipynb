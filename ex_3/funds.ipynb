{
 "cells": [
  {
   "cell_type": "code",
   "execution_count": 2,
   "id": "f74b359f",
   "metadata": {},
   "outputs": [],
   "source": [
    "url1 = 'https://www.google.com/finance/quote/INFY:NSE'\n",
    "ur12 = 'https://www.google.com/finance/quote/500209: BOM'"
   ]
  },
  {
   "cell_type": "code",
   "execution_count": 5,
   "id": "0f217ced",
   "metadata": {},
   "outputs": [],
   "source": [
    "from bs4 import BeautifulSoup\n",
    "import time \n",
    "import requests\n",
    "\n",
    "ticker = 'INFY'\n",
    "url = f'https://www.google.com/finance/quote/{ticker}: NSE'\n",
    "response = requests.get(url)\n",
    "soup = BeautifulSoup (response.text, 'html.parser')"
   ]
  },
  {
   "cell_type": "code",
   "execution_count": null,
   "id": "f4fbdd90",
   "metadata": {},
   "outputs": [],
   "source": [
    "import yfinance as yf\n",
    "data = yf.Ticker(\"INFY.NS\").history(period=\"1d\")\n",
    "print(data)\n"
   ]
  }
 ],
 "metadata": {
  "kernelspec": {
   "display_name": "Python 3",
   "language": "python",
   "name": "python3"
  },
  "language_info": {
   "codemirror_mode": {
    "name": "ipython",
    "version": 3
   },
   "file_extension": ".py",
   "mimetype": "text/x-python",
   "name": "python",
   "nbconvert_exporter": "python",
   "pygments_lexer": "ipython3",
   "version": "3.13.2"
  }
 },
 "nbformat": 4,
 "nbformat_minor": 5
}
